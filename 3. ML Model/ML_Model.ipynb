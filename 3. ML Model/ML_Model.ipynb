{
 "cells": [
  {
   "cell_type": "code",
   "execution_count": 1,
   "id": "8877a020",
   "metadata": {},
   "outputs": [],
   "source": [
    "import pandas as pd\n",
    "import numpy as np\n",
    "import statsbombpy\n",
    "from statsbombpy import sb"
   ]
  },
  {
   "cell_type": "code",
   "execution_count": 2,
   "id": "999c7a58",
   "metadata": {
    "scrolled": true
   },
   "outputs": [],
   "source": [
    "#Taking all events from the season\n",
    "\n",
    "# events = sb.competition_events(\n",
    "#     country=\"England\",\n",
    "#     division= \"Premier League\",\n",
    "#     season=\"2015/2016\",\n",
    "#     gender=\"male\"\n",
    "# )"
   ]
  },
  {
   "cell_type": "code",
   "execution_count": 3,
   "id": "3d10007e",
   "metadata": {},
   "outputs": [],
   "source": [
    "#Saving events to csv\n",
    "\n",
    "#events.to_csv('events.csv')"
   ]
  },
  {
   "cell_type": "code",
   "execution_count": 4,
   "id": "0400050a",
   "metadata": {},
   "outputs": [
    {
     "name": "stderr",
     "output_type": "stream",
     "text": [
      "C:\\Users\\CEPL\\AppData\\Local\\Temp\\ipykernel_21304\\2299023059.py:1: DtypeWarning: Columns (1,2,3,4,5,6,7,8,9,10,11,12,13,14,15,16,17,18,19,20,21,22,24,25,26,27,28,29,30,31,32,33,34,35,36,37,38,39,40,41,42,43,44,45,46,49,50,54,55,56,57,59,60,61,62,63,64,65,66,67,69,70,71,72,73,74,75,76,77,78,79,84,91,92,93,94,95,96,97,98,99,100,101,102,103,104,106,107,108,109,110,115) have mixed types. Specify dtype option on import or set low_memory=False.\n",
      "  events=pd.read_csv('events.csv')\n"
     ]
    }
   ],
   "source": [
    "events=pd.read_csv('events.csv')"
   ]
  },
  {
   "cell_type": "code",
   "execution_count": 5,
   "id": "6ccc9be9",
   "metadata": {
    "scrolled": true
   },
   "outputs": [],
   "source": [
    "#Checking all columns\n",
    "#print([i for i in events.columns])"
   ]
  },
  {
   "cell_type": "code",
   "execution_count": 6,
   "id": "340b3803",
   "metadata": {},
   "outputs": [],
   "source": [
    "#replacing NANs and Trues with 0s and 1s\n",
    "\n",
    "for i in events.columns:\n",
    "    events[i].replace({np.nan:0, True:1}, inplace=True)"
   ]
  },
  {
   "cell_type": "code",
   "execution_count": 7,
   "id": "970025c8",
   "metadata": {},
   "outputs": [],
   "source": [
    "#dropping highly variable categorical columns\n",
    "drops=[]\n",
    "for i in events.columns:\n",
    "    if len(events[i].astype(str).unique())>25 and events[i].dtype=='O':\n",
    "        drops.append(i)\n",
    "#             print(i, events[i].astype(str).sort_values().unique())"
   ]
  },
  {
   "cell_type": "code",
   "execution_count": 8,
   "id": "d22cb9da",
   "metadata": {},
   "outputs": [],
   "source": [
    "#events[drops]\n",
    "drops.remove('player')\n",
    "drops.remove('position')"
   ]
  },
  {
   "cell_type": "code",
   "execution_count": 9,
   "id": "f7ef6868",
   "metadata": {},
   "outputs": [],
   "source": [
    "events.drop(columns=drops, inplace=True)"
   ]
  },
  {
   "cell_type": "code",
   "execution_count": 10,
   "id": "d45f9e15",
   "metadata": {},
   "outputs": [],
   "source": [
    "#setting value of goal scored\n",
    "\n",
    "events['g']=0"
   ]
  },
  {
   "cell_type": "code",
   "execution_count": 11,
   "id": "4c6894f5",
   "metadata": {},
   "outputs": [
    {
     "name": "stderr",
     "output_type": "stream",
     "text": [
      "C:\\Users\\CEPL\\AppData\\Local\\Temp\\ipykernel_21304\\1171894920.py:1: SettingWithCopyWarning: \n",
      "A value is trying to be set on a copy of a slice from a DataFrame\n",
      "\n",
      "See the caveats in the documentation: https://pandas.pydata.org/pandas-docs/stable/user_guide/indexing.html#returning-a-view-versus-a-copy\n",
      "  events.g[events.shot_outcome=='Goal']=1\n"
     ]
    }
   ],
   "source": [
    "events.g[events.shot_outcome=='Goal']=1"
   ]
  },
  {
   "cell_type": "code",
   "execution_count": 12,
   "id": "63b53c3d",
   "metadata": {
    "scrolled": true
   },
   "outputs": [
    {
     "data": {
      "text/plain": [
       "0    1312795\n",
       "1        988\n",
       "Name: g, dtype: int64"
      ]
     },
     "execution_count": 12,
     "metadata": {},
     "output_type": "execute_result"
    }
   ],
   "source": [
    "events.g.value_counts()"
   ]
  },
  {
   "cell_type": "code",
   "execution_count": 13,
   "id": "02661fde",
   "metadata": {
    "scrolled": true
   },
   "outputs": [],
   "source": [
    "# for i in events.columns:\n",
    "#     print(i, '\\n', len(events[i].astype(str).unique()), '\\n', events[i].astype(str).sort_values().unique())"
   ]
  },
  {
   "cell_type": "code",
   "execution_count": 14,
   "id": "20d50628",
   "metadata": {},
   "outputs": [],
   "source": [
    "#removing unnecessary or redundant columns\n",
    "drops=['50_50', 'ball_receipt_outcome', 'duration', 'goalkeeper_body_part', 'goalkeeper_lost_in_play', 'goalkeeper_outcome',\n",
    "      'goalkeeper_type', 'half_start_late_video_start', 'half_start_late_video_start', 'index', 'match_id', 'injury_stoppage_in_chain',\n",
    "       'minute', 'off_camera', 'player_id', 'player_off_permanent', 'position', 'possession', 'possession_team',\n",
    "       'possession_team_id', 'second', 'team', 'substitution_outcome', 'team_id']"
   ]
  },
  {
   "cell_type": "code",
   "execution_count": 15,
   "id": "016bfa6c",
   "metadata": {},
   "outputs": [],
   "source": [
    "events.drop(columns=drops, inplace=True)"
   ]
  },
  {
   "cell_type": "code",
   "execution_count": 16,
   "id": "f84c7cab",
   "metadata": {
    "scrolled": true
   },
   "outputs": [
    {
     "name": "stdout",
     "output_type": "stream",
     "text": [
      "bad_behaviour_card 3\n",
      "clearance_body_part 5\n",
      "dribble_outcome 3\n",
      "duel_outcome 6\n",
      "duel_type 3\n",
      "foul_committed_card 4\n",
      "foul_committed_type 6\n",
      "goalkeeper_position 4\n",
      "goalkeeper_technique 3\n",
      "interception_outcome 6\n",
      "pass_body_part 8\n",
      "pass_height 4\n",
      "pass_outcome 6\n",
      "pass_technique 5\n",
      "pass_type 8\n",
      "play_pattern 9\n",
      "player 550\n",
      "shot_body_part 5\n",
      "shot_outcome 9\n",
      "shot_technique 8\n",
      "shot_type 5\n"
     ]
    }
   ],
   "source": [
    "#finding categotrical columns\n",
    "dummies=[]\n",
    "for i in events.columns:\n",
    "    if events[i].dtype=='O':\n",
    "        print(i, len(events[i].unique()))\n",
    "        dummies.append(i)"
   ]
  },
  {
   "cell_type": "code",
   "execution_count": 17,
   "id": "5fd7e884",
   "metadata": {},
   "outputs": [],
   "source": [
    "dummies.remove('player')"
   ]
  },
  {
   "cell_type": "code",
   "execution_count": 18,
   "id": "e613a640",
   "metadata": {},
   "outputs": [],
   "source": [
    "#getting dummies for categorical columns to be able to add them up by player for the whole season"
   ]
  },
  {
   "cell_type": "code",
   "execution_count": 19,
   "id": "4e178445",
   "metadata": {},
   "outputs": [],
   "source": [
    "events=pd.get_dummies(events, columns=dummies, drop_first=True)"
   ]
  },
  {
   "cell_type": "code",
   "execution_count": 20,
   "id": "822a14f9",
   "metadata": {},
   "outputs": [],
   "source": [
    "events.drop('Unnamed: 0', axis=1, inplace=True)"
   ]
  },
  {
   "cell_type": "code",
   "execution_count": 72,
   "id": "883a347d",
   "metadata": {
    "scrolled": true
   },
   "outputs": [],
   "source": [
    "season=events.groupby('player').sum()"
   ]
  },
  {
   "cell_type": "code",
   "execution_count": 73,
   "id": "333ba055",
   "metadata": {},
   "outputs": [],
   "source": [
    "season=season.iloc[1:,:]"
   ]
  },
  {
   "cell_type": "code",
   "execution_count": 74,
   "id": "39830a5c",
   "metadata": {},
   "outputs": [],
   "source": [
    "t=list(season.columns)\n"
   ]
  },
  {
   "cell_type": "code",
   "execution_count": 75,
   "id": "5e741da6",
   "metadata": {},
   "outputs": [
    {
     "data": {
      "text/html": [
       "<div>\n",
       "<style scoped>\n",
       "    .dataframe tbody tr th:only-of-type {\n",
       "        vertical-align: middle;\n",
       "    }\n",
       "\n",
       "    .dataframe tbody tr th {\n",
       "        vertical-align: top;\n",
       "    }\n",
       "\n",
       "    .dataframe thead th {\n",
       "        text-align: right;\n",
       "    }\n",
       "</style>\n",
       "<table border=\"1\" class=\"dataframe\">\n",
       "  <thead>\n",
       "    <tr style=\"text-align: right;\">\n",
       "      <th></th>\n",
       "      <th>ball_recovery_offensive</th>\n",
       "      <th>ball_recovery_recovery_failure</th>\n",
       "      <th>block_deflection</th>\n",
       "      <th>block_offensive</th>\n",
       "      <th>block_save_block</th>\n",
       "      <th>clearance_aerial_won</th>\n",
       "      <th>clearance_head</th>\n",
       "      <th>clearance_left_foot</th>\n",
       "      <th>clearance_other</th>\n",
       "      <th>clearance_right_foot</th>\n",
       "      <th>...</th>\n",
       "      <th>shot_technique_Diving Header</th>\n",
       "      <th>shot_technique_Half Volley</th>\n",
       "      <th>shot_technique_Lob</th>\n",
       "      <th>shot_technique_Normal</th>\n",
       "      <th>shot_technique_Overhead Kick</th>\n",
       "      <th>shot_technique_Volley</th>\n",
       "      <th>shot_type_Corner</th>\n",
       "      <th>shot_type_Free Kick</th>\n",
       "      <th>shot_type_Open Play</th>\n",
       "      <th>shot_type_Penalty</th>\n",
       "    </tr>\n",
       "  </thead>\n",
       "  <tbody>\n",
       "    <tr>\n",
       "      <th>ball_recovery_offensive</th>\n",
       "      <td>1.000000</td>\n",
       "      <td>0.474990</td>\n",
       "      <td>0.132510</td>\n",
       "      <td>0.281757</td>\n",
       "      <td>0.049664</td>\n",
       "      <td>-0.032631</td>\n",
       "      <td>0.002303</td>\n",
       "      <td>0.007591</td>\n",
       "      <td>-0.027092</td>\n",
       "      <td>0.030943</td>\n",
       "      <td>...</td>\n",
       "      <td>0.002551</td>\n",
       "      <td>0.266649</td>\n",
       "      <td>0.142182</td>\n",
       "      <td>0.360645</td>\n",
       "      <td>-0.000493</td>\n",
       "      <td>0.288807</td>\n",
       "      <td>-0.017771</td>\n",
       "      <td>0.312972</td>\n",
       "      <td>0.341132</td>\n",
       "      <td>0.101974</td>\n",
       "    </tr>\n",
       "    <tr>\n",
       "      <th>ball_recovery_recovery_failure</th>\n",
       "      <td>0.474990</td>\n",
       "      <td>1.000000</td>\n",
       "      <td>0.439192</td>\n",
       "      <td>0.496730</td>\n",
       "      <td>0.153858</td>\n",
       "      <td>0.212946</td>\n",
       "      <td>0.264360</td>\n",
       "      <td>0.226843</td>\n",
       "      <td>0.195000</td>\n",
       "      <td>0.265090</td>\n",
       "      <td>...</td>\n",
       "      <td>0.174624</td>\n",
       "      <td>0.583745</td>\n",
       "      <td>0.211228</td>\n",
       "      <td>0.598275</td>\n",
       "      <td>0.204651</td>\n",
       "      <td>0.555000</td>\n",
       "      <td>0.014895</td>\n",
       "      <td>0.312827</td>\n",
       "      <td>0.617675</td>\n",
       "      <td>0.258471</td>\n",
       "    </tr>\n",
       "    <tr>\n",
       "      <th>block_deflection</th>\n",
       "      <td>0.132510</td>\n",
       "      <td>0.439192</td>\n",
       "      <td>1.000000</td>\n",
       "      <td>0.192733</td>\n",
       "      <td>0.162819</td>\n",
       "      <td>0.415655</td>\n",
       "      <td>0.455624</td>\n",
       "      <td>0.380450</td>\n",
       "      <td>0.306382</td>\n",
       "      <td>0.461091</td>\n",
       "      <td>...</td>\n",
       "      <td>0.041640</td>\n",
       "      <td>0.254012</td>\n",
       "      <td>0.043473</td>\n",
       "      <td>0.254449</td>\n",
       "      <td>0.041930</td>\n",
       "      <td>0.274351</td>\n",
       "      <td>-0.028158</td>\n",
       "      <td>0.127804</td>\n",
       "      <td>0.266097</td>\n",
       "      <td>0.054231</td>\n",
       "    </tr>\n",
       "    <tr>\n",
       "      <th>block_offensive</th>\n",
       "      <td>0.281757</td>\n",
       "      <td>0.496730</td>\n",
       "      <td>0.192733</td>\n",
       "      <td>1.000000</td>\n",
       "      <td>0.139486</td>\n",
       "      <td>0.118469</td>\n",
       "      <td>0.154017</td>\n",
       "      <td>0.058845</td>\n",
       "      <td>0.090698</td>\n",
       "      <td>0.116406</td>\n",
       "      <td>...</td>\n",
       "      <td>0.155738</td>\n",
       "      <td>0.462591</td>\n",
       "      <td>0.181953</td>\n",
       "      <td>0.495319</td>\n",
       "      <td>0.277443</td>\n",
       "      <td>0.407133</td>\n",
       "      <td>-0.024727</td>\n",
       "      <td>0.101053</td>\n",
       "      <td>0.522554</td>\n",
       "      <td>0.326324</td>\n",
       "    </tr>\n",
       "    <tr>\n",
       "      <th>block_save_block</th>\n",
       "      <td>0.049664</td>\n",
       "      <td>0.153858</td>\n",
       "      <td>0.162819</td>\n",
       "      <td>0.139486</td>\n",
       "      <td>1.000000</td>\n",
       "      <td>0.285777</td>\n",
       "      <td>0.309130</td>\n",
       "      <td>0.281969</td>\n",
       "      <td>0.111357</td>\n",
       "      <td>0.275610</td>\n",
       "      <td>...</td>\n",
       "      <td>0.022167</td>\n",
       "      <td>0.118419</td>\n",
       "      <td>0.042760</td>\n",
       "      <td>0.079782</td>\n",
       "      <td>0.075061</td>\n",
       "      <td>0.182277</td>\n",
       "      <td>-0.012733</td>\n",
       "      <td>0.046801</td>\n",
       "      <td>0.097138</td>\n",
       "      <td>0.036218</td>\n",
       "    </tr>\n",
       "    <tr>\n",
       "      <th>...</th>\n",
       "      <td>...</td>\n",
       "      <td>...</td>\n",
       "      <td>...</td>\n",
       "      <td>...</td>\n",
       "      <td>...</td>\n",
       "      <td>...</td>\n",
       "      <td>...</td>\n",
       "      <td>...</td>\n",
       "      <td>...</td>\n",
       "      <td>...</td>\n",
       "      <td>...</td>\n",
       "      <td>...</td>\n",
       "      <td>...</td>\n",
       "      <td>...</td>\n",
       "      <td>...</td>\n",
       "      <td>...</td>\n",
       "      <td>...</td>\n",
       "      <td>...</td>\n",
       "      <td>...</td>\n",
       "      <td>...</td>\n",
       "      <td>...</td>\n",
       "    </tr>\n",
       "    <tr>\n",
       "      <th>shot_technique_Volley</th>\n",
       "      <td>0.288807</td>\n",
       "      <td>0.555000</td>\n",
       "      <td>0.274351</td>\n",
       "      <td>0.407133</td>\n",
       "      <td>0.182277</td>\n",
       "      <td>0.085982</td>\n",
       "      <td>0.135326</td>\n",
       "      <td>0.090814</td>\n",
       "      <td>0.058594</td>\n",
       "      <td>0.091699</td>\n",
       "      <td>...</td>\n",
       "      <td>0.322705</td>\n",
       "      <td>0.651414</td>\n",
       "      <td>0.355153</td>\n",
       "      <td>0.688075</td>\n",
       "      <td>0.414848</td>\n",
       "      <td>1.000000</td>\n",
       "      <td>-0.004485</td>\n",
       "      <td>0.255577</td>\n",
       "      <td>0.752588</td>\n",
       "      <td>0.411385</td>\n",
       "    </tr>\n",
       "    <tr>\n",
       "      <th>shot_type_Corner</th>\n",
       "      <td>-0.017771</td>\n",
       "      <td>0.014895</td>\n",
       "      <td>-0.028158</td>\n",
       "      <td>-0.024727</td>\n",
       "      <td>-0.012733</td>\n",
       "      <td>-0.019179</td>\n",
       "      <td>-0.017332</td>\n",
       "      <td>-0.020914</td>\n",
       "      <td>-0.016098</td>\n",
       "      <td>-0.009345</td>\n",
       "      <td>...</td>\n",
       "      <td>-0.011397</td>\n",
       "      <td>-0.004738</td>\n",
       "      <td>-0.011523</td>\n",
       "      <td>0.065584</td>\n",
       "      <td>-0.012402</td>\n",
       "      <td>-0.004485</td>\n",
       "      <td>1.000000</td>\n",
       "      <td>0.098486</td>\n",
       "      <td>0.042624</td>\n",
       "      <td>-0.010212</td>\n",
       "    </tr>\n",
       "    <tr>\n",
       "      <th>shot_type_Free Kick</th>\n",
       "      <td>0.312972</td>\n",
       "      <td>0.312827</td>\n",
       "      <td>0.127804</td>\n",
       "      <td>0.101053</td>\n",
       "      <td>0.046801</td>\n",
       "      <td>-0.062001</td>\n",
       "      <td>-0.053448</td>\n",
       "      <td>0.006674</td>\n",
       "      <td>-0.008364</td>\n",
       "      <td>-0.038871</td>\n",
       "      <td>...</td>\n",
       "      <td>-0.026897</td>\n",
       "      <td>0.332300</td>\n",
       "      <td>0.219901</td>\n",
       "      <td>0.535682</td>\n",
       "      <td>0.169328</td>\n",
       "      <td>0.255577</td>\n",
       "      <td>0.098486</td>\n",
       "      <td>1.000000</td>\n",
       "      <td>0.427014</td>\n",
       "      <td>0.236238</td>\n",
       "    </tr>\n",
       "    <tr>\n",
       "      <th>shot_type_Open Play</th>\n",
       "      <td>0.341132</td>\n",
       "      <td>0.617675</td>\n",
       "      <td>0.266097</td>\n",
       "      <td>0.522554</td>\n",
       "      <td>0.097138</td>\n",
       "      <td>0.000979</td>\n",
       "      <td>0.044490</td>\n",
       "      <td>-0.005374</td>\n",
       "      <td>0.000253</td>\n",
       "      <td>0.040761</td>\n",
       "      <td>...</td>\n",
       "      <td>0.294023</td>\n",
       "      <td>0.850434</td>\n",
       "      <td>0.478738</td>\n",
       "      <td>0.985051</td>\n",
       "      <td>0.434886</td>\n",
       "      <td>0.752588</td>\n",
       "      <td>0.042624</td>\n",
       "      <td>0.427014</td>\n",
       "      <td>1.000000</td>\n",
       "      <td>0.531136</td>\n",
       "    </tr>\n",
       "    <tr>\n",
       "      <th>shot_type_Penalty</th>\n",
       "      <td>0.101974</td>\n",
       "      <td>0.258471</td>\n",
       "      <td>0.054231</td>\n",
       "      <td>0.326324</td>\n",
       "      <td>0.036218</td>\n",
       "      <td>-0.074344</td>\n",
       "      <td>-0.058489</td>\n",
       "      <td>-0.053940</td>\n",
       "      <td>-0.064613</td>\n",
       "      <td>-0.064959</td>\n",
       "      <td>...</td>\n",
       "      <td>0.187177</td>\n",
       "      <td>0.460657</td>\n",
       "      <td>0.282008</td>\n",
       "      <td>0.543483</td>\n",
       "      <td>0.336033</td>\n",
       "      <td>0.411385</td>\n",
       "      <td>-0.010212</td>\n",
       "      <td>0.236238</td>\n",
       "      <td>0.531136</td>\n",
       "      <td>1.000000</td>\n",
       "    </tr>\n",
       "  </tbody>\n",
       "</table>\n",
       "<p>147 rows × 147 columns</p>\n",
       "</div>"
      ],
      "text/plain": [
       "                                ball_recovery_offensive  \\\n",
       "ball_recovery_offensive                        1.000000   \n",
       "ball_recovery_recovery_failure                 0.474990   \n",
       "block_deflection                               0.132510   \n",
       "block_offensive                                0.281757   \n",
       "block_save_block                               0.049664   \n",
       "...                                                 ...   \n",
       "shot_technique_Volley                          0.288807   \n",
       "shot_type_Corner                              -0.017771   \n",
       "shot_type_Free Kick                            0.312972   \n",
       "shot_type_Open Play                            0.341132   \n",
       "shot_type_Penalty                              0.101974   \n",
       "\n",
       "                                ball_recovery_recovery_failure  \\\n",
       "ball_recovery_offensive                               0.474990   \n",
       "ball_recovery_recovery_failure                        1.000000   \n",
       "block_deflection                                      0.439192   \n",
       "block_offensive                                       0.496730   \n",
       "block_save_block                                      0.153858   \n",
       "...                                                        ...   \n",
       "shot_technique_Volley                                 0.555000   \n",
       "shot_type_Corner                                      0.014895   \n",
       "shot_type_Free Kick                                   0.312827   \n",
       "shot_type_Open Play                                   0.617675   \n",
       "shot_type_Penalty                                     0.258471   \n",
       "\n",
       "                                block_deflection  block_offensive  \\\n",
       "ball_recovery_offensive                 0.132510         0.281757   \n",
       "ball_recovery_recovery_failure          0.439192         0.496730   \n",
       "block_deflection                        1.000000         0.192733   \n",
       "block_offensive                         0.192733         1.000000   \n",
       "block_save_block                        0.162819         0.139486   \n",
       "...                                          ...              ...   \n",
       "shot_technique_Volley                   0.274351         0.407133   \n",
       "shot_type_Corner                       -0.028158        -0.024727   \n",
       "shot_type_Free Kick                     0.127804         0.101053   \n",
       "shot_type_Open Play                     0.266097         0.522554   \n",
       "shot_type_Penalty                       0.054231         0.326324   \n",
       "\n",
       "                                block_save_block  clearance_aerial_won  \\\n",
       "ball_recovery_offensive                 0.049664             -0.032631   \n",
       "ball_recovery_recovery_failure          0.153858              0.212946   \n",
       "block_deflection                        0.162819              0.415655   \n",
       "block_offensive                         0.139486              0.118469   \n",
       "block_save_block                        1.000000              0.285777   \n",
       "...                                          ...                   ...   \n",
       "shot_technique_Volley                   0.182277              0.085982   \n",
       "shot_type_Corner                       -0.012733             -0.019179   \n",
       "shot_type_Free Kick                     0.046801             -0.062001   \n",
       "shot_type_Open Play                     0.097138              0.000979   \n",
       "shot_type_Penalty                       0.036218             -0.074344   \n",
       "\n",
       "                                clearance_head  clearance_left_foot  \\\n",
       "ball_recovery_offensive               0.002303             0.007591   \n",
       "ball_recovery_recovery_failure        0.264360             0.226843   \n",
       "block_deflection                      0.455624             0.380450   \n",
       "block_offensive                       0.154017             0.058845   \n",
       "block_save_block                      0.309130             0.281969   \n",
       "...                                        ...                  ...   \n",
       "shot_technique_Volley                 0.135326             0.090814   \n",
       "shot_type_Corner                     -0.017332            -0.020914   \n",
       "shot_type_Free Kick                  -0.053448             0.006674   \n",
       "shot_type_Open Play                   0.044490            -0.005374   \n",
       "shot_type_Penalty                    -0.058489            -0.053940   \n",
       "\n",
       "                                clearance_other  clearance_right_foot  ...  \\\n",
       "ball_recovery_offensive               -0.027092              0.030943  ...   \n",
       "ball_recovery_recovery_failure         0.195000              0.265090  ...   \n",
       "block_deflection                       0.306382              0.461091  ...   \n",
       "block_offensive                        0.090698              0.116406  ...   \n",
       "block_save_block                       0.111357              0.275610  ...   \n",
       "...                                         ...                   ...  ...   \n",
       "shot_technique_Volley                  0.058594              0.091699  ...   \n",
       "shot_type_Corner                      -0.016098             -0.009345  ...   \n",
       "shot_type_Free Kick                   -0.008364             -0.038871  ...   \n",
       "shot_type_Open Play                    0.000253              0.040761  ...   \n",
       "shot_type_Penalty                     -0.064613             -0.064959  ...   \n",
       "\n",
       "                                shot_technique_Diving Header  \\\n",
       "ball_recovery_offensive                             0.002551   \n",
       "ball_recovery_recovery_failure                      0.174624   \n",
       "block_deflection                                    0.041640   \n",
       "block_offensive                                     0.155738   \n",
       "block_save_block                                    0.022167   \n",
       "...                                                      ...   \n",
       "shot_technique_Volley                               0.322705   \n",
       "shot_type_Corner                                   -0.011397   \n",
       "shot_type_Free Kick                                -0.026897   \n",
       "shot_type_Open Play                                 0.294023   \n",
       "shot_type_Penalty                                   0.187177   \n",
       "\n",
       "                                shot_technique_Half Volley  \\\n",
       "ball_recovery_offensive                           0.266649   \n",
       "ball_recovery_recovery_failure                    0.583745   \n",
       "block_deflection                                  0.254012   \n",
       "block_offensive                                   0.462591   \n",
       "block_save_block                                  0.118419   \n",
       "...                                                    ...   \n",
       "shot_technique_Volley                             0.651414   \n",
       "shot_type_Corner                                 -0.004738   \n",
       "shot_type_Free Kick                               0.332300   \n",
       "shot_type_Open Play                               0.850434   \n",
       "shot_type_Penalty                                 0.460657   \n",
       "\n",
       "                                shot_technique_Lob  shot_technique_Normal  \\\n",
       "ball_recovery_offensive                   0.142182               0.360645   \n",
       "ball_recovery_recovery_failure            0.211228               0.598275   \n",
       "block_deflection                          0.043473               0.254449   \n",
       "block_offensive                           0.181953               0.495319   \n",
       "block_save_block                          0.042760               0.079782   \n",
       "...                                            ...                    ...   \n",
       "shot_technique_Volley                     0.355153               0.688075   \n",
       "shot_type_Corner                         -0.011523               0.065584   \n",
       "shot_type_Free Kick                       0.219901               0.535682   \n",
       "shot_type_Open Play                       0.478738               0.985051   \n",
       "shot_type_Penalty                         0.282008               0.543483   \n",
       "\n",
       "                                shot_technique_Overhead Kick  \\\n",
       "ball_recovery_offensive                            -0.000493   \n",
       "ball_recovery_recovery_failure                      0.204651   \n",
       "block_deflection                                    0.041930   \n",
       "block_offensive                                     0.277443   \n",
       "block_save_block                                    0.075061   \n",
       "...                                                      ...   \n",
       "shot_technique_Volley                               0.414848   \n",
       "shot_type_Corner                                   -0.012402   \n",
       "shot_type_Free Kick                                 0.169328   \n",
       "shot_type_Open Play                                 0.434886   \n",
       "shot_type_Penalty                                   0.336033   \n",
       "\n",
       "                                shot_technique_Volley  shot_type_Corner  \\\n",
       "ball_recovery_offensive                      0.288807         -0.017771   \n",
       "ball_recovery_recovery_failure               0.555000          0.014895   \n",
       "block_deflection                             0.274351         -0.028158   \n",
       "block_offensive                              0.407133         -0.024727   \n",
       "block_save_block                             0.182277         -0.012733   \n",
       "...                                               ...               ...   \n",
       "shot_technique_Volley                        1.000000         -0.004485   \n",
       "shot_type_Corner                            -0.004485          1.000000   \n",
       "shot_type_Free Kick                          0.255577          0.098486   \n",
       "shot_type_Open Play                          0.752588          0.042624   \n",
       "shot_type_Penalty                            0.411385         -0.010212   \n",
       "\n",
       "                                shot_type_Free Kick  shot_type_Open Play  \\\n",
       "ball_recovery_offensive                    0.312972             0.341132   \n",
       "ball_recovery_recovery_failure             0.312827             0.617675   \n",
       "block_deflection                           0.127804             0.266097   \n",
       "block_offensive                            0.101053             0.522554   \n",
       "block_save_block                           0.046801             0.097138   \n",
       "...                                             ...                  ...   \n",
       "shot_technique_Volley                      0.255577             0.752588   \n",
       "shot_type_Corner                           0.098486             0.042624   \n",
       "shot_type_Free Kick                        1.000000             0.427014   \n",
       "shot_type_Open Play                        0.427014             1.000000   \n",
       "shot_type_Penalty                          0.236238             0.531136   \n",
       "\n",
       "                                shot_type_Penalty  \n",
       "ball_recovery_offensive                  0.101974  \n",
       "ball_recovery_recovery_failure           0.258471  \n",
       "block_deflection                         0.054231  \n",
       "block_offensive                          0.326324  \n",
       "block_save_block                         0.036218  \n",
       "...                                           ...  \n",
       "shot_technique_Volley                    0.411385  \n",
       "shot_type_Corner                        -0.010212  \n",
       "shot_type_Free Kick                      0.236238  \n",
       "shot_type_Open Play                      0.531136  \n",
       "shot_type_Penalty                        1.000000  \n",
       "\n",
       "[147 rows x 147 columns]"
      ]
     },
     "execution_count": 75,
     "metadata": {},
     "output_type": "execute_result"
    }
   ],
   "source": [
    "season[t].corr()"
   ]
  },
  {
   "cell_type": "code",
   "execution_count": 76,
   "id": "546d7138",
   "metadata": {},
   "outputs": [],
   "source": [
    "#Removing highly correlated columns\n",
    "\n",
    "col=[]\n",
    "\n",
    "cm=season[t].corr()\n",
    "for i in cm.index:\n",
    "    for j in cm:\n",
    "        if i!=j and cm[i][j]>0.70:\n",
    "            col.extend([i,j])"
   ]
  },
  {
   "cell_type": "code",
   "execution_count": 77,
   "id": "1e377fd7",
   "metadata": {},
   "outputs": [],
   "source": [
    "col=list(set(col))\n",
    "col.remove('g')"
   ]
  },
  {
   "cell_type": "code",
   "execution_count": 78,
   "id": "6f5f81ed",
   "metadata": {},
   "outputs": [],
   "source": [
    "season.drop(columns=col, inplace=True)"
   ]
  },
  {
   "cell_type": "code",
   "execution_count": 79,
   "id": "560c3739",
   "metadata": {},
   "outputs": [],
   "source": [
    "for i in list(set(col)):\n",
    "    if i in t:\n",
    "        t.remove(i)\n",
    "        #print(i)"
   ]
  },
  {
   "cell_type": "code",
   "execution_count": 80,
   "id": "ddfeb42c",
   "metadata": {},
   "outputs": [],
   "source": [
    "import seaborn as sns\n",
    "import matplotlib.pyplot as plt"
   ]
  },
  {
   "cell_type": "code",
   "execution_count": 81,
   "id": "d772fd33",
   "metadata": {},
   "outputs": [
    {
     "data": {
      "text/plain": [
       "ball_recovery_offensive               0.219083\n",
       "block_deflection                      0.147298\n",
       "block_offensive                       0.472169\n",
       "block_save_block                      0.082706\n",
       "dribble_no_touch                      0.190406\n",
       "foul_committed_offensive              0.541643\n",
       "foul_committed_penalty               -0.067009\n",
       "foul_won_penalty                      0.550514\n",
       "goalkeeper_lost_out                  -0.023321\n",
       "goalkeeper_penalty_saved_to_post     -0.023321\n",
       "goalkeeper_saved_to_post             -0.023321\n",
       "goalkeeper_shot_saved_to_post        -0.080106\n",
       "goalkeeper_success_in_play           -0.071693\n",
       "pass_angle                            0.042133\n",
       "pass_cut_back                         0.390558\n",
       "pass_deflected                        0.352882\n",
       "pass_miscommunication                 0.459804\n",
       "shot_deflected                        0.499366\n",
       "shot_follows_dribble                  0.316795\n",
       "shot_open_goal                        0.524498\n",
       "shot_redirect                         0.241190\n",
       "g                                     1.000000\n",
       "bad_behaviour_card_Red Card           0.063992\n",
       "bad_behaviour_card_Yellow Card        0.240767\n",
       "duel_outcome_Success Out              0.127910\n",
       "foul_committed_card_Red Card          0.029566\n",
       "foul_committed_card_Second Yellow     0.078944\n",
       "foul_committed_type_6 Seconds        -0.023321\n",
       "foul_committed_type_Dangerous Play    0.285070\n",
       "foul_committed_type_Dive              0.157610\n",
       "foul_committed_type_Foul Out         -0.005892\n",
       "foul_committed_type_Handball          0.386124\n",
       "interception_outcome_Success Out      0.046103\n",
       "pass_body_part_Left Foot              0.111139\n",
       "pass_body_part_Other                  0.475360\n",
       "pass_outcome_Injury Clearance         0.263713\n",
       "pass_type_Throw-in                   -0.065347\n",
       "play_pattern_Other                    0.312273\n",
       "shot_body_part_Left Foot              0.623475\n",
       "shot_body_part_Other                  0.248224\n",
       "shot_outcome_Wayward                  0.559746\n",
       "shot_technique_Backheel               0.385363\n",
       "shot_technique_Diving Header          0.267818\n",
       "shot_technique_Lob                    0.529090\n",
       "shot_technique_Overhead Kick          0.451010\n",
       "shot_type_Corner                      0.015555\n",
       "shot_type_Penalty                     0.646506\n",
       "Name: g, dtype: float64"
      ]
     },
     "execution_count": 81,
     "metadata": {},
     "output_type": "execute_result"
    }
   ],
   "source": [
    "season[t].corr()['g']"
   ]
  },
  {
   "cell_type": "code",
   "execution_count": 82,
   "id": "fda7a02a",
   "metadata": {},
   "outputs": [],
   "source": [
    "#removing target variable from dataframe\n",
    "t.remove('g')"
   ]
  },
  {
   "cell_type": "code",
   "execution_count": 83,
   "id": "7340355f",
   "metadata": {},
   "outputs": [],
   "source": [
    "import sklearn\n",
    "from sklearn.preprocessing import StandardScaler\n",
    "from sklearn.model_selection import train_test_split\n",
    "from sklearn.linear_model import LinearRegression\n",
    "\n",
    "lr=LinearRegression()"
   ]
  },
  {
   "cell_type": "code",
   "execution_count": 84,
   "id": "5a73127f",
   "metadata": {},
   "outputs": [
    {
     "data": {
      "text/plain": [
       "(549, 47)"
      ]
     },
     "execution_count": 84,
     "metadata": {},
     "output_type": "execute_result"
    }
   ],
   "source": [
    "season.shape"
   ]
  },
  {
   "cell_type": "code",
   "execution_count": 85,
   "id": "d7e64538",
   "metadata": {
    "scrolled": true
   },
   "outputs": [
    {
     "data": {
      "text/plain": [
       "46"
      ]
     },
     "execution_count": 85,
     "metadata": {},
     "output_type": "execute_result"
    }
   ],
   "source": [
    "len(t)"
   ]
  },
  {
   "cell_type": "code",
   "execution_count": 86,
   "id": "e37542cd",
   "metadata": {},
   "outputs": [],
   "source": [
    "season= season.reset_index().drop('player', axis=1)"
   ]
  },
  {
   "cell_type": "code",
   "execution_count": 87,
   "id": "1c4bb364",
   "metadata": {},
   "outputs": [
    {
     "data": {
      "text/plain": [
       "ball_recovery_offensive               0\n",
       "block_deflection                      0\n",
       "block_offensive                       0\n",
       "block_save_block                      0\n",
       "dribble_no_touch                      0\n",
       "foul_committed_offensive              0\n",
       "foul_committed_penalty                0\n",
       "foul_won_penalty                      0\n",
       "goalkeeper_lost_out                   0\n",
       "goalkeeper_penalty_saved_to_post      0\n",
       "goalkeeper_saved_to_post              0\n",
       "goalkeeper_shot_saved_to_post         0\n",
       "goalkeeper_success_in_play            0\n",
       "pass_angle                            0\n",
       "pass_cut_back                         0\n",
       "pass_deflected                        0\n",
       "pass_miscommunication                 0\n",
       "shot_deflected                        0\n",
       "shot_follows_dribble                  0\n",
       "shot_open_goal                        0\n",
       "shot_redirect                         0\n",
       "g                                     0\n",
       "bad_behaviour_card_Red Card           0\n",
       "bad_behaviour_card_Yellow Card        0\n",
       "duel_outcome_Success Out              0\n",
       "foul_committed_card_Red Card          0\n",
       "foul_committed_card_Second Yellow     0\n",
       "foul_committed_type_6 Seconds         0\n",
       "foul_committed_type_Dangerous Play    0\n",
       "foul_committed_type_Dive              0\n",
       "foul_committed_type_Foul Out          0\n",
       "foul_committed_type_Handball          0\n",
       "interception_outcome_Success Out      0\n",
       "pass_body_part_Left Foot              0\n",
       "pass_body_part_Other                  0\n",
       "pass_outcome_Injury Clearance         0\n",
       "pass_type_Throw-in                    0\n",
       "play_pattern_Other                    0\n",
       "shot_body_part_Left Foot              0\n",
       "shot_body_part_Other                  0\n",
       "shot_outcome_Wayward                  0\n",
       "shot_technique_Backheel               0\n",
       "shot_technique_Diving Header          0\n",
       "shot_technique_Lob                    0\n",
       "shot_technique_Overhead Kick          0\n",
       "shot_type_Corner                      0\n",
       "shot_type_Penalty                     0\n",
       "dtype: int64"
      ]
     },
     "execution_count": 87,
     "metadata": {},
     "output_type": "execute_result"
    }
   ],
   "source": [
    "#checking for null values\n",
    "season.isna().sum()"
   ]
  },
  {
   "cell_type": "code",
   "execution_count": 88,
   "id": "d4fb3c35",
   "metadata": {},
   "outputs": [],
   "source": [
    "x=season[t]\n",
    "y=season.g"
   ]
  },
  {
   "cell_type": "code",
   "execution_count": 89,
   "id": "24bafdff",
   "metadata": {},
   "outputs": [
    {
     "data": {
      "text/plain": [
       "(549, 46)"
      ]
     },
     "execution_count": 89,
     "metadata": {},
     "output_type": "execute_result"
    }
   ],
   "source": [
    "x.shape"
   ]
  },
  {
   "cell_type": "code",
   "execution_count": 90,
   "id": "034366ee",
   "metadata": {},
   "outputs": [
    {
     "data": {
      "text/plain": [
       "(549,)"
      ]
     },
     "execution_count": 90,
     "metadata": {},
     "output_type": "execute_result"
    }
   ],
   "source": [
    "y.shape"
   ]
  },
  {
   "cell_type": "code",
   "execution_count": 91,
   "id": "655809df",
   "metadata": {},
   "outputs": [],
   "source": [
    "x_train, x_test, y_train, y_test= train_test_split(x, y, test_size=0.2, random_state=18)"
   ]
  },
  {
   "cell_type": "code",
   "execution_count": 97,
   "id": "3888a3c2",
   "metadata": {},
   "outputs": [
    {
     "name": "stdout",
     "output_type": "stream",
     "text": [
      "0.8688366000826927\n"
     ]
    }
   ],
   "source": [
    "#checking average accuracy over different random states\n",
    "s=0\n",
    "for i in range(100):\n",
    "    x_train, x_test, y_train, y_test= train_test_split(x, y, test_size=0.2, random_state=i)\n",
    "    lr.fit(x_train, y_train)\n",
    "    s+=lr.score(x_train, y_train)\n",
    "print(s/100)"
   ]
  },
  {
   "cell_type": "code",
   "execution_count": 98,
   "id": "44b722ed",
   "metadata": {},
   "outputs": [
    {
     "data": {
      "text/html": [
       "<style>#sk-container-id-10 {color: black;background-color: white;}#sk-container-id-10 pre{padding: 0;}#sk-container-id-10 div.sk-toggleable {background-color: white;}#sk-container-id-10 label.sk-toggleable__label {cursor: pointer;display: block;width: 100%;margin-bottom: 0;padding: 0.3em;box-sizing: border-box;text-align: center;}#sk-container-id-10 label.sk-toggleable__label-arrow:before {content: \"▸\";float: left;margin-right: 0.25em;color: #696969;}#sk-container-id-10 label.sk-toggleable__label-arrow:hover:before {color: black;}#sk-container-id-10 div.sk-estimator:hover label.sk-toggleable__label-arrow:before {color: black;}#sk-container-id-10 div.sk-toggleable__content {max-height: 0;max-width: 0;overflow: hidden;text-align: left;background-color: #f0f8ff;}#sk-container-id-10 div.sk-toggleable__content pre {margin: 0.2em;color: black;border-radius: 0.25em;background-color: #f0f8ff;}#sk-container-id-10 input.sk-toggleable__control:checked~div.sk-toggleable__content {max-height: 200px;max-width: 100%;overflow: auto;}#sk-container-id-10 input.sk-toggleable__control:checked~label.sk-toggleable__label-arrow:before {content: \"▾\";}#sk-container-id-10 div.sk-estimator input.sk-toggleable__control:checked~label.sk-toggleable__label {background-color: #d4ebff;}#sk-container-id-10 div.sk-label input.sk-toggleable__control:checked~label.sk-toggleable__label {background-color: #d4ebff;}#sk-container-id-10 input.sk-hidden--visually {border: 0;clip: rect(1px 1px 1px 1px);clip: rect(1px, 1px, 1px, 1px);height: 1px;margin: -1px;overflow: hidden;padding: 0;position: absolute;width: 1px;}#sk-container-id-10 div.sk-estimator {font-family: monospace;background-color: #f0f8ff;border: 1px dotted black;border-radius: 0.25em;box-sizing: border-box;margin-bottom: 0.5em;}#sk-container-id-10 div.sk-estimator:hover {background-color: #d4ebff;}#sk-container-id-10 div.sk-parallel-item::after {content: \"\";width: 100%;border-bottom: 1px solid gray;flex-grow: 1;}#sk-container-id-10 div.sk-label:hover label.sk-toggleable__label {background-color: #d4ebff;}#sk-container-id-10 div.sk-serial::before {content: \"\";position: absolute;border-left: 1px solid gray;box-sizing: border-box;top: 0;bottom: 0;left: 50%;z-index: 0;}#sk-container-id-10 div.sk-serial {display: flex;flex-direction: column;align-items: center;background-color: white;padding-right: 0.2em;padding-left: 0.2em;position: relative;}#sk-container-id-10 div.sk-item {position: relative;z-index: 1;}#sk-container-id-10 div.sk-parallel {display: flex;align-items: stretch;justify-content: center;background-color: white;position: relative;}#sk-container-id-10 div.sk-item::before, #sk-container-id-10 div.sk-parallel-item::before {content: \"\";position: absolute;border-left: 1px solid gray;box-sizing: border-box;top: 0;bottom: 0;left: 50%;z-index: -1;}#sk-container-id-10 div.sk-parallel-item {display: flex;flex-direction: column;z-index: 1;position: relative;background-color: white;}#sk-container-id-10 div.sk-parallel-item:first-child::after {align-self: flex-end;width: 50%;}#sk-container-id-10 div.sk-parallel-item:last-child::after {align-self: flex-start;width: 50%;}#sk-container-id-10 div.sk-parallel-item:only-child::after {width: 0;}#sk-container-id-10 div.sk-dashed-wrapped {border: 1px dashed gray;margin: 0 0.4em 0.5em 0.4em;box-sizing: border-box;padding-bottom: 0.4em;background-color: white;}#sk-container-id-10 div.sk-label label {font-family: monospace;font-weight: bold;display: inline-block;line-height: 1.2em;}#sk-container-id-10 div.sk-label-container {text-align: center;}#sk-container-id-10 div.sk-container {/* jupyter's `normalize.less` sets `[hidden] { display: none; }` but bootstrap.min.css set `[hidden] { display: none !important; }` so we also need the `!important` here to be able to override the default hidden behavior on the sphinx rendered scikit-learn.org. See: https://github.com/scikit-learn/scikit-learn/issues/21755 */display: inline-block !important;position: relative;}#sk-container-id-10 div.sk-text-repr-fallback {display: none;}</style><div id=\"sk-container-id-10\" class=\"sk-top-container\"><div class=\"sk-text-repr-fallback\"><pre>LinearRegression()</pre><b>In a Jupyter environment, please rerun this cell to show the HTML representation or trust the notebook. <br />On GitHub, the HTML representation is unable to render, please try loading this page with nbviewer.org.</b></div><div class=\"sk-container\" hidden><div class=\"sk-item\"><div class=\"sk-estimator sk-toggleable\"><input class=\"sk-toggleable__control sk-hidden--visually\" id=\"sk-estimator-id-10\" type=\"checkbox\" checked><label for=\"sk-estimator-id-10\" class=\"sk-toggleable__label sk-toggleable__label-arrow\">LinearRegression</label><div class=\"sk-toggleable__content\"><pre>LinearRegression()</pre></div></div></div></div></div>"
      ],
      "text/plain": [
       "LinearRegression()"
      ]
     },
     "execution_count": 98,
     "metadata": {},
     "output_type": "execute_result"
    }
   ],
   "source": [
    "lr.fit(x_train, y_train)"
   ]
  },
  {
   "cell_type": "code",
   "execution_count": 99,
   "id": "b8619731",
   "metadata": {},
   "outputs": [
    {
     "data": {
      "text/plain": [
       "0.8785095666450125"
      ]
     },
     "execution_count": 99,
     "metadata": {},
     "output_type": "execute_result"
    }
   ],
   "source": [
    "lr.score(x_train, y_train)"
   ]
  },
  {
   "cell_type": "code",
   "execution_count": 100,
   "id": "0d836958",
   "metadata": {},
   "outputs": [],
   "source": [
    "#The linear regression model has an accuracy of 87.85%"
   ]
  },
  {
   "cell_type": "code",
   "execution_count": 101,
   "id": "384064cf",
   "metadata": {},
   "outputs": [],
   "source": [
    "#Now, to attempt a Classification Model"
   ]
  },
  {
   "cell_type": "code",
   "execution_count": 102,
   "id": "e9b716a1",
   "metadata": {},
   "outputs": [],
   "source": [
    "#Changing goals scored into a classification system\n",
    "\n",
    "bins=[-1, 2, 5, 10, 15, 20, 26]\n",
    "labels=['<2', '2+', '5+', '10+', '15+', '20+']"
   ]
  },
  {
   "cell_type": "code",
   "execution_count": 103,
   "id": "0fa74011",
   "metadata": {},
   "outputs": [],
   "source": [
    "season['gc']=season.g"
   ]
  },
  {
   "cell_type": "code",
   "execution_count": 104,
   "id": "e3b829de",
   "metadata": {},
   "outputs": [],
   "source": [
    "season.gc=pd.cut(season.gc, bins=bins)"
   ]
  },
  {
   "cell_type": "code",
   "execution_count": 105,
   "id": "72edf638",
   "metadata": {},
   "outputs": [
    {
     "data": {
      "text/plain": [
       "(-1, 2]     428\n",
       "(2, 5]       72\n",
       "(5, 10]      31\n",
       "(10, 15]     12\n",
       "(15, 20]      3\n",
       "(20, 26]      3\n",
       "Name: gc, dtype: int64"
      ]
     },
     "execution_count": 105,
     "metadata": {},
     "output_type": "execute_result"
    }
   ],
   "source": [
    "season.gc.value_counts()"
   ]
  },
  {
   "cell_type": "code",
   "execution_count": 106,
   "id": "8d29869a",
   "metadata": {},
   "outputs": [
    {
     "data": {
      "text/plain": [
       "0    428\n",
       "1     72\n",
       "2     31\n",
       "3     12\n",
       "5      3\n",
       "4      3\n",
       "Name: gc, dtype: int64"
      ]
     },
     "execution_count": 106,
     "metadata": {},
     "output_type": "execute_result"
    }
   ],
   "source": [
    "from sklearn.preprocessing import LabelEncoder\n",
    "le=LabelEncoder()\n",
    "season.gc=le.fit_transform(season.gc)\n",
    "season.gc.value_counts()"
   ]
  },
  {
   "cell_type": "code",
   "execution_count": 107,
   "id": "3f4e051c",
   "metadata": {},
   "outputs": [],
   "source": [
    "from sklearn.linear_model import LogisticRegression\n",
    "from sklearn.ensemble import RandomForestClassifier\n",
    "\n",
    "lr=LogisticRegression(solver='liblinear')\n",
    "rf=RandomForestClassifier(n_estimators=1000, max_depth=20)"
   ]
  },
  {
   "cell_type": "code",
   "execution_count": 108,
   "id": "9204786b",
   "metadata": {},
   "outputs": [],
   "source": [
    "x=season[t]\n",
    "y=season['gc']"
   ]
  },
  {
   "cell_type": "code",
   "execution_count": 112,
   "id": "5799d978",
   "metadata": {},
   "outputs": [],
   "source": [
    "x_train, x_test, y_train, y_test= train_test_split(x, y, test_size=0.125, random_state=13)"
   ]
  },
  {
   "cell_type": "code",
   "execution_count": 113,
   "id": "1c73f246",
   "metadata": {},
   "outputs": [],
   "source": [
    "from sklearn import metrics\n",
    "a=[lr,rf]"
   ]
  },
  {
   "cell_type": "code",
   "execution_count": 114,
   "id": "94511d65",
   "metadata": {
    "scrolled": true
   },
   "outputs": [
    {
     "name": "stdout",
     "output_type": "stream",
     "text": [
      "LogisticRegression(solver='liblinear')\n",
      "\n",
      "              precision    recall  f1-score   support\n",
      "\n",
      "           0       0.95      0.95      0.95        57\n",
      "           1       0.00      0.00      0.00         7\n",
      "           2       0.00      0.00      0.00         1\n",
      "           3       0.00      0.00      0.00         3\n",
      "           4       1.00      1.00      1.00         1\n",
      "           5       0.00      0.00      0.00         0\n",
      "\n",
      "    accuracy                           0.80        69\n",
      "   macro avg       0.32      0.32      0.32        69\n",
      "weighted avg       0.80      0.80      0.80        69\n",
      "\n",
      "\n"
     ]
    },
    {
     "name": "stderr",
     "output_type": "stream",
     "text": [
      "C:\\Users\\CEPL\\anaconda3\\lib\\site-packages\\sklearn\\metrics\\_classification.py:1344: UndefinedMetricWarning: Precision and F-score are ill-defined and being set to 0.0 in labels with no predicted samples. Use `zero_division` parameter to control this behavior.\n",
      "  _warn_prf(average, modifier, msg_start, len(result))\n",
      "C:\\Users\\CEPL\\anaconda3\\lib\\site-packages\\sklearn\\metrics\\_classification.py:1344: UndefinedMetricWarning: Recall and F-score are ill-defined and being set to 0.0 in labels with no true samples. Use `zero_division` parameter to control this behavior.\n",
      "  _warn_prf(average, modifier, msg_start, len(result))\n",
      "C:\\Users\\CEPL\\anaconda3\\lib\\site-packages\\sklearn\\metrics\\_classification.py:1344: UndefinedMetricWarning: Precision and F-score are ill-defined and being set to 0.0 in labels with no predicted samples. Use `zero_division` parameter to control this behavior.\n",
      "  _warn_prf(average, modifier, msg_start, len(result))\n",
      "C:\\Users\\CEPL\\anaconda3\\lib\\site-packages\\sklearn\\metrics\\_classification.py:1344: UndefinedMetricWarning: Recall and F-score are ill-defined and being set to 0.0 in labels with no true samples. Use `zero_division` parameter to control this behavior.\n",
      "  _warn_prf(average, modifier, msg_start, len(result))\n",
      "C:\\Users\\CEPL\\anaconda3\\lib\\site-packages\\sklearn\\metrics\\_classification.py:1344: UndefinedMetricWarning: Precision and F-score are ill-defined and being set to 0.0 in labels with no predicted samples. Use `zero_division` parameter to control this behavior.\n",
      "  _warn_prf(average, modifier, msg_start, len(result))\n",
      "C:\\Users\\CEPL\\anaconda3\\lib\\site-packages\\sklearn\\metrics\\_classification.py:1344: UndefinedMetricWarning: Recall and F-score are ill-defined and being set to 0.0 in labels with no true samples. Use `zero_division` parameter to control this behavior.\n",
      "  _warn_prf(average, modifier, msg_start, len(result))\n"
     ]
    },
    {
     "data": {
      "image/png": "[encoded data removed]",
      "text/plain": [
       "<Figure size 640x480 with 2 Axes>"
      ]
     },
     "metadata": {},
     "output_type": "display_data"
    },
    {
     "name": "stdout",
     "output_type": "stream",
     "text": [
      "\n",
      " \n",
      "\n",
      "RandomForestClassifier(max_depth=20, n_estimators=1000)\n",
      "\n",
      "              precision    recall  f1-score   support\n",
      "\n",
      "           0       0.92      0.96      0.94        57\n",
      "           1       0.33      0.29      0.31         7\n",
      "           2       0.00      0.00      0.00         1\n",
      "           3       0.00      0.00      0.00         3\n",
      "           4       0.00      0.00      0.00         1\n",
      "\n",
      "    accuracy                           0.83        69\n",
      "   macro avg       0.25      0.25      0.25        69\n",
      "weighted avg       0.79      0.83      0.81        69\n",
      "\n",
      "\n"
     ]
    },
    {
     "name": "stderr",
     "output_type": "stream",
     "text": [
      "C:\\Users\\CEPL\\anaconda3\\lib\\site-packages\\sklearn\\metrics\\_classification.py:1344: UndefinedMetricWarning: Precision and F-score are ill-defined and being set to 0.0 in labels with no predicted samples. Use `zero_division` parameter to control this behavior.\n",
      "  _warn_prf(average, modifier, msg_start, len(result))\n",
      "C:\\Users\\CEPL\\anaconda3\\lib\\site-packages\\sklearn\\metrics\\_classification.py:1344: UndefinedMetricWarning: Precision and F-score are ill-defined and being set to 0.0 in labels with no predicted samples. Use `zero_division` parameter to control this behavior.\n",
      "  _warn_prf(average, modifier, msg_start, len(result))\n",
      "C:\\Users\\CEPL\\anaconda3\\lib\\site-packages\\sklearn\\metrics\\_classification.py:1344: UndefinedMetricWarning: Precision and F-score are ill-defined and being set to 0.0 in labels with no predicted samples. Use `zero_division` parameter to control this behavior.\n",
      "  _warn_prf(average, modifier, msg_start, len(result))\n"
     ]
    },
    {
     "data": {
      "image/png": "[encoded data removed]",
      "text/plain": [
       "<Figure size 640x480 with 2 Axes>"
      ]
     },
     "metadata": {},
     "output_type": "display_data"
    },
    {
     "name": "stdout",
     "output_type": "stream",
     "text": [
      "\n",
      " \n",
      "\n"
     ]
    }
   ],
   "source": [
    "for i in a:\n",
    "    i.fit(x_train, y_train)\n",
    "    y_pred=i.predict(x_test)\n",
    "    print(i)\n",
    "    print()\n",
    "    print(metrics.classification_report(y_test, y_pred))\n",
    "    print()\n",
    "    sns.heatmap(metrics.confusion_matrix(y_test, y_pred), annot=True, fmt='2g')\n",
    "    plt.show()\n",
    "    print('\\n','\\n')"
   ]
  },
  {
   "cell_type": "code",
   "execution_count": 115,
   "id": "56aa83b0",
   "metadata": {},
   "outputs": [],
   "source": [
    "#The logistic regression has an accuracy of 0.80 and a weighted precision score of 0.79"
   ]
  },
  {
   "cell_type": "code",
   "execution_count": 116,
   "id": "9c6f6e08",
   "metadata": {},
   "outputs": [],
   "source": [
    "#The random forest classifier has an accuracy of 0.83 and a weighted precision score of 0.79"
   ]
  },
  {
   "cell_type": "code",
   "execution_count": null,
   "id": "706ef4f6",
   "metadata": {},
   "outputs": [],
   "source": []
  }
 ],
 "metadata": {
  "kernelspec": {
   "display_name": "Python 3 (ipykernel)",
   "language": "python",
   "name": "python3"
  },
  "language_info": {
   "codemirror_mode": {
    "name": "ipython",
    "version": 3
   },
   "file_extension": ".py",
   "mimetype": "text/x-python",
   "name": "python",
   "nbconvert_exporter": "python",
   "pygments_lexer": "ipython3",
   "version": "3.10.9"
  }
 },
 "nbformat": 4,
 "nbformat_minor": 5
}
